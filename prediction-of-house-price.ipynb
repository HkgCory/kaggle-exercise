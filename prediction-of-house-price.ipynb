{
 "cells": [
  {
   "cell_type": "code",
   "execution_count": 1,
   "id": "89ad49f6",
   "metadata": {
    "_cell_guid": "b1076dfc-b9ad-4769-8c92-a6c4dae69d19",
    "_kg_hide-input": true,
    "_kg_hide-output": true,
    "_uuid": "8f2839f25d086af736a60e9eeb907d3b93b6e0e5",
    "execution": {
     "iopub.execute_input": "2023-03-11T03:00:37.352492Z",
     "iopub.status.busy": "2023-03-11T03:00:37.351186Z",
     "iopub.status.idle": "2023-03-11T03:00:37.370122Z",
     "shell.execute_reply": "2023-03-11T03:00:37.369311Z",
     "shell.execute_reply.started": "2023-03-11T02:50:50.044263Z"
    },
    "papermill": {
     "duration": 0.038289,
     "end_time": "2023-03-11T03:00:37.370336",
     "exception": false,
     "start_time": "2023-03-11T03:00:37.332047",
     "status": "completed"
    },
    "tags": []
   },
   "outputs": [
    {
     "name": "stdout",
     "output_type": "stream",
     "text": [
      "/kaggle/input/home-data-for-ml-course/sample_submission.csv\n",
      "/kaggle/input/home-data-for-ml-course/sample_submission.csv.gz\n",
      "/kaggle/input/home-data-for-ml-course/train.csv.gz\n",
      "/kaggle/input/home-data-for-ml-course/data_description.txt\n",
      "/kaggle/input/home-data-for-ml-course/test.csv.gz\n",
      "/kaggle/input/home-data-for-ml-course/train.csv\n",
      "/kaggle/input/home-data-for-ml-course/test.csv\n"
     ]
    }
   ],
   "source": [
    "\n",
    "\n",
    "import numpy as np \n",
    "import pandas as pd \n",
    "\n",
    "import os\n",
    "for dirname, _, filenames in os.walk('/kaggle/input'):\n",
    "    for filename in filenames:\n",
    "        print(os.path.join(dirname, filename))\n"
   ]
  },
  {
   "cell_type": "markdown",
   "id": "9e2b60e8",
   "metadata": {
    "papermill": {
     "duration": 0.013067,
     "end_time": "2023-03-11T03:00:37.396321",
     "exception": false,
     "start_time": "2023-03-11T03:00:37.383254",
     "status": "completed"
    },
    "tags": []
   },
   "source": [
    "**IMPORTING LIBRARIES**"
   ]
  },
  {
   "cell_type": "code",
   "execution_count": 2,
   "id": "500d888b",
   "metadata": {
    "execution": {
     "iopub.execute_input": "2023-03-11T03:00:37.428163Z",
     "iopub.status.busy": "2023-03-11T03:00:37.427436Z",
     "iopub.status.idle": "2023-03-11T03:00:38.936103Z",
     "shell.execute_reply": "2023-03-11T03:00:38.935346Z",
     "shell.execute_reply.started": "2023-03-11T02:50:50.080794Z"
    },
    "papermill": {
     "duration": 1.525176,
     "end_time": "2023-03-11T03:00:38.936255",
     "exception": false,
     "start_time": "2023-03-11T03:00:37.411079",
     "status": "completed"
    },
    "tags": []
   },
   "outputs": [],
   "source": [
    "\n",
    "from sklearn.ensemble import RandomForestRegressor\n",
    "from sklearn.metrics import mean_absolute_error\n",
    "from sklearn.model_selection import train_test_split"
   ]
  },
  {
   "cell_type": "markdown",
   "id": "c39964ef",
   "metadata": {
    "papermill": {
     "duration": 0.011791,
     "end_time": "2023-03-11T03:00:38.960377",
     "exception": false,
     "start_time": "2023-03-11T03:00:38.948586",
     "status": "completed"
    },
    "tags": []
   },
   "source": [
    "**RANDOM FOREST MODEL**\n",
    "\n",
    "\n",
    "Random forest is a Supervised Machine Learning Algorithm that is used widely in Classification and Regression problems. It builds decision trees on different samples and takes their majority vote for classification and average in case of regression."
   ]
  },
  {
   "cell_type": "code",
   "execution_count": 3,
   "id": "32a59eba",
   "metadata": {
    "execution": {
     "iopub.execute_input": "2023-03-11T03:00:38.991692Z",
     "iopub.status.busy": "2023-03-11T03:00:38.987457Z",
     "iopub.status.idle": "2023-03-11T03:00:39.044153Z",
     "shell.execute_reply": "2023-03-11T03:00:39.044762Z",
     "shell.execute_reply.started": "2023-03-11T02:51:37.882199Z"
    },
    "papermill": {
     "duration": 0.072601,
     "end_time": "2023-03-11T03:00:39.044952",
     "exception": false,
     "start_time": "2023-03-11T03:00:38.972351",
     "status": "completed"
    },
    "tags": []
   },
   "outputs": [],
   "source": [
    "iowa_file_path = '/kaggle/input/home-data-for-ml-course/train.csv'\n",
    "home_data = pd.read_csv(iowa_file_path)\n",
    "y = home_data.SalePrice\n",
    "\n",
    "features = ['LotArea', 'YearBuilt', '1stFlrSF', '2ndFlrSF', 'FullBath', 'BedroomAbvGr', 'TotRmsAbvGrd']\n",
    "\n",
    "X = home_data[features]\n",
    "X.head()\n",
    "\n",
    "train_X, val_X, train_y, val_y = train_test_split(X, y, random_state=1)\n",
    "\n"
   ]
  },
  {
   "cell_type": "markdown",
   "id": "21db1935",
   "metadata": {
    "papermill": {
     "duration": 0.011809,
     "end_time": "2023-03-11T03:00:39.068946",
     "exception": false,
     "start_time": "2023-03-11T03:00:39.057137",
     "status": "completed"
    },
    "tags": []
   },
   "source": [
    " **TRAIN THE MODEL**\n",
    " \n",
    " Train the Random Forest model on train_X and train_y.\n",
    " "
   ]
  },
  {
   "cell_type": "code",
   "execution_count": 4,
   "id": "63297ec3",
   "metadata": {
    "execution": {
     "iopub.execute_input": "2023-03-11T03:00:39.102518Z",
     "iopub.status.busy": "2023-03-11T03:00:39.101447Z",
     "iopub.status.idle": "2023-03-11T03:00:39.601012Z",
     "shell.execute_reply": "2023-03-11T03:00:39.600345Z",
     "shell.execute_reply.started": "2023-03-11T02:51:42.640424Z"
    },
    "papermill": {
     "duration": 0.519594,
     "end_time": "2023-03-11T03:00:39.601173",
     "exception": false,
     "start_time": "2023-03-11T03:00:39.081579",
     "status": "completed"
    },
    "tags": []
   },
   "outputs": [
    {
     "name": "stdout",
     "output_type": "stream",
     "text": [
      "Validation MAE for Random Forest Model: 21,857\n"
     ]
    }
   ],
   "source": [
    "rf_model = RandomForestRegressor(random_state=1)\n",
    "rf_model.fit(train_X, train_y)\n",
    "rf_val_predictions = rf_model.predict(val_X)\n",
    "rf_val_mae = mean_absolute_error(rf_val_predictions, val_y)\n",
    "\n",
    "print(\"Validation MAE for Random Forest Model: {:,.0f}\".format(rf_val_mae))\n"
   ]
  },
  {
   "cell_type": "markdown",
   "id": "f5b3287c",
   "metadata": {
    "papermill": {
     "duration": 0.013344,
     "end_time": "2023-03-11T03:00:39.628304",
     "exception": false,
     "start_time": "2023-03-11T03:00:39.614960",
     "status": "completed"
    },
    "tags": []
   },
   "source": [
    "To build a Random Forest model and train it on all of X and y."
   ]
  },
  {
   "cell_type": "code",
   "execution_count": 5,
   "id": "08be3bab",
   "metadata": {
    "execution": {
     "iopub.execute_input": "2023-03-11T03:00:39.658716Z",
     "iopub.status.busy": "2023-03-11T03:00:39.657885Z",
     "iopub.status.idle": "2023-03-11T03:00:44.616233Z",
     "shell.execute_reply": "2023-03-11T03:00:44.615629Z",
     "shell.execute_reply.started": "2023-03-11T02:55:33.204755Z"
    },
    "papermill": {
     "duration": 4.975516,
     "end_time": "2023-03-11T03:00:44.616409",
     "exception": false,
     "start_time": "2023-03-11T03:00:39.640893",
     "status": "completed"
    },
    "tags": []
   },
   "outputs": [
    {
     "name": "stdout",
     "output_type": "stream",
     "text": [
      "Fitting 5 folds for each of 2 candidates, totalling 10 fits\n"
     ]
    },
    {
     "name": "stderr",
     "output_type": "stream",
     "text": [
      "[Parallel(n_jobs=1)]: Using backend SequentialBackend with 1 concurrent workers.\n",
      "[Parallel(n_jobs=1)]: Done  10 out of  10 | elapsed:    4.7s finished\n"
     ]
    },
    {
     "data": {
      "text/plain": [
       "RandomizedSearchCV(cv=5,\n",
       "                   estimator=RandomForestRegressor(n_jobs=-1, random_state=1),\n",
       "                   n_iter=2,\n",
       "                   param_distributions={'max_depth': [None, 3, 5, 10],\n",
       "                                        'max_features': [0.5, 1, 'sqrt',\n",
       "                                                         'auto'],\n",
       "                                        'min_samples_leaf': array([ 1,  3,  5,  7,  9, 11, 13, 15, 17, 19]),\n",
       "                                        'min_samples_split': array([ 2,  4,  6,  8, 10, 12, 14, 16, 18]),\n",
       "                                        'n_estimators': array([10, 20, 30, 40, 50, 60, 70, 80, 90])},\n",
       "                   verbose=True)"
      ]
     },
     "execution_count": 5,
     "metadata": {},
     "output_type": "execute_result"
    }
   ],
   "source": [
    "from sklearn.model_selection import RandomizedSearchCV\n",
    "\n",
    "# Different RandomForestRegressor hyperparameters\n",
    "rf_grid = {\"n_estimators\": np.arange(10, 100, 10),\n",
    "           \"max_depth\": [None, 3, 5, 10],\n",
    "           \"min_samples_split\": np.arange(2, 20, 2),\n",
    "           \"min_samples_leaf\": np.arange(1, 20, 2),\n",
    "           \"max_features\": [0.5, 1, \"sqrt\", \"auto\"]}\n",
    "           \n",
    "rs_model = RandomizedSearchCV(RandomForestRegressor(n_jobs=-1,\n",
    "                                                    random_state=1),\n",
    "                              param_distributions=rf_grid,\n",
    "                              n_iter=2,\n",
    "                              cv=5,\n",
    "                              verbose=True)\n",
    "\n",
    "# Fit the RandomizedSearchCV model\n",
    "rs_model.fit(train_X, train_y)"
   ]
  },
  {
   "cell_type": "code",
   "execution_count": 6,
   "id": "19b3742e",
   "metadata": {
    "execution": {
     "iopub.execute_input": "2023-03-11T03:00:44.652392Z",
     "iopub.status.busy": "2023-03-11T03:00:44.651613Z",
     "iopub.status.idle": "2023-03-11T03:00:44.657177Z",
     "shell.execute_reply": "2023-03-11T03:00:44.657766Z",
     "shell.execute_reply.started": "2023-03-11T02:55:55.597192Z"
    },
    "papermill": {
     "duration": 0.027708,
     "end_time": "2023-03-11T03:00:44.657991",
     "exception": false,
     "start_time": "2023-03-11T03:00:44.630283",
     "status": "completed"
    },
    "tags": []
   },
   "outputs": [
    {
     "data": {
      "text/plain": [
       "{'n_estimators': 60,\n",
       " 'min_samples_split': 8,\n",
       " 'min_samples_leaf': 7,\n",
       " 'max_features': 0.5,\n",
       " 'max_depth': 10}"
      ]
     },
     "execution_count": 6,
     "metadata": {},
     "output_type": "execute_result"
    }
   ],
   "source": [
    "rs_model.best_params_"
   ]
  },
  {
   "cell_type": "code",
   "execution_count": 7,
   "id": "58e52913",
   "metadata": {
    "execution": {
     "iopub.execute_input": "2023-03-11T03:00:44.692173Z",
     "iopub.status.busy": "2023-03-11T03:00:44.691437Z",
     "iopub.status.idle": "2023-03-11T03:00:44.984456Z",
     "shell.execute_reply": "2023-03-11T03:00:44.984992Z",
     "shell.execute_reply.started": "2023-03-11T02:56:55.026709Z"
    },
    "papermill": {
     "duration": 0.31159,
     "end_time": "2023-03-11T03:00:44.985193",
     "exception": false,
     "start_time": "2023-03-11T03:00:44.673603",
     "status": "completed"
    },
    "tags": []
   },
   "outputs": [
    {
     "data": {
      "text/plain": [
       "RandomForestRegressor(min_samples_leaf=3, min_samples_split=12, n_estimators=80)"
      ]
     },
     "execution_count": 7,
     "metadata": {},
     "output_type": "execute_result"
    }
   ],
   "source": [
    "ideal_model = RandomForestRegressor(n_estimators= 80,\n",
    " min_samples_split= 12,\n",
    " min_samples_leaf= 3,\n",
    " max_features= 'auto',\n",
    " max_depth= None)\n",
    "\n",
    "ideal_model.fit(train_X, train_y)"
   ]
  },
  {
   "cell_type": "code",
   "execution_count": 8,
   "id": "320728d0",
   "metadata": {
    "execution": {
     "iopub.execute_input": "2023-03-11T03:00:45.019371Z",
     "iopub.status.busy": "2023-03-11T03:00:45.018658Z",
     "iopub.status.idle": "2023-03-11T03:00:45.022127Z",
     "shell.execute_reply": "2023-03-11T03:00:45.022618Z",
     "shell.execute_reply.started": "2023-03-11T02:57:16.710156Z"
    },
    "papermill": {
     "duration": 0.022733,
     "end_time": "2023-03-11T03:00:45.022882",
     "exception": false,
     "start_time": "2023-03-11T03:00:45.000149",
     "status": "completed"
    },
    "tags": []
   },
   "outputs": [],
   "source": [
    "# # To improve accuracy, create a new Random Forest model which you will train on all training data\n",
    "# rf_model_on_full_data = RandomForestRegressor()\n",
    "\n",
    "\n",
    "# # fit rf_model_on_full_data on all data from the training data\n",
    "# rf_model_on_full_data.fit(X, y)"
   ]
  },
  {
   "cell_type": "code",
   "execution_count": 9,
   "id": "8e1ec15b",
   "metadata": {
    "execution": {
     "iopub.execute_input": "2023-03-11T03:00:45.055410Z",
     "iopub.status.busy": "2023-03-11T03:00:45.054580Z",
     "iopub.status.idle": "2023-03-11T03:00:45.415011Z",
     "shell.execute_reply": "2023-03-11T03:00:45.414380Z",
     "shell.execute_reply.started": "2023-03-11T02:58:37.828440Z"
    },
    "papermill": {
     "duration": 0.37772,
     "end_time": "2023-03-11T03:00:45.415195",
     "exception": false,
     "start_time": "2023-03-11T03:00:45.037475",
     "status": "completed"
    },
    "tags": []
   },
   "outputs": [
    {
     "data": {
      "text/plain": [
       "RandomForestRegressor(min_samples_leaf=3, min_samples_split=12, n_estimators=80)"
      ]
     },
     "execution_count": 9,
     "metadata": {},
     "output_type": "execute_result"
    }
   ],
   "source": [
    "# To improve accuracy, create a new Random Forest model which you will train on all training data\n",
    "rf_model_on_full_data = RandomForestRegressor(n_estimators= 80,\n",
    " min_samples_split= 12,\n",
    " min_samples_leaf= 3,\n",
    " max_features= 'auto',\n",
    " max_depth= None)\n",
    "\n",
    "\n",
    "# fit rf_model_on_full_data on all data from the training data\n",
    "rf_model_on_full_data.fit(X, y)"
   ]
  },
  {
   "cell_type": "markdown",
   "id": "4ebac2fe",
   "metadata": {
    "papermill": {
     "duration": 0.016942,
     "end_time": "2023-03-11T03:00:45.447461",
     "exception": false,
     "start_time": "2023-03-11T03:00:45.430519",
     "status": "completed"
    },
    "tags": []
   },
   "source": [
    "**APPLYING RF MODEL TO MAKE PREDICTIONS**"
   ]
  },
  {
   "cell_type": "code",
   "execution_count": 10,
   "id": "8358d26e",
   "metadata": {
    "execution": {
     "iopub.execute_input": "2023-03-11T03:00:45.484614Z",
     "iopub.status.busy": "2023-03-11T03:00:45.483849Z",
     "iopub.status.idle": "2023-03-11T03:00:45.548384Z",
     "shell.execute_reply": "2023-03-11T03:00:45.547637Z",
     "shell.execute_reply.started": "2023-03-11T02:59:23.096342Z"
    },
    "papermill": {
     "duration": 0.086378,
     "end_time": "2023-03-11T03:00:45.548537",
     "exception": false,
     "start_time": "2023-03-11T03:00:45.462159",
     "status": "completed"
    },
    "tags": []
   },
   "outputs": [
    {
     "name": "stdout",
     "output_type": "stream",
     "text": [
      "Successfully Predicted the House Price!!\n"
     ]
    }
   ],
   "source": [
    "# path to file you will use for predictions\n",
    "test_data_path = '/kaggle/input/home-data-for-ml-course/test.csv'\n",
    "\n",
    "# read test data file using pandas\n",
    "test_data = pd.read_csv(test_data_path)\n",
    "\n",
    "# create test_X which comes from test_data but includes only the columns you used for prediction.\n",
    "# The list of columns is stored in a variable called features\n",
    "test_X = test_data[features]\n",
    "\n",
    "# make predictions which we will submit. \n",
    "test_preds = rf_model_on_full_data.predict(test_X)\n",
    "\n",
    "\n",
    "output = pd.DataFrame({'Id': test_data.Id,'SalePrice': test_preds})\n",
    "output.to_csv('submission.csv', index=False)\n",
    "print(\"Successfully Predicted the House Price!!\")"
   ]
  },
  {
   "cell_type": "code",
   "execution_count": null,
   "id": "c5ebb288",
   "metadata": {
    "papermill": {
     "duration": 0.015864,
     "end_time": "2023-03-11T03:00:45.580622",
     "exception": false,
     "start_time": "2023-03-11T03:00:45.564758",
     "status": "completed"
    },
    "tags": []
   },
   "outputs": [],
   "source": []
  }
 ],
 "metadata": {
  "kernelspec": {
   "display_name": "Python 3",
   "language": "python",
   "name": "python3"
  },
  "language_info": {
   "codemirror_mode": {
    "name": "ipython",
    "version": 3
   },
   "file_extension": ".py",
   "mimetype": "text/x-python",
   "name": "python",
   "nbconvert_exporter": "python",
   "pygments_lexer": "ipython3",
   "version": "3.7.12"
  },
  "papermill": {
   "default_parameters": {},
   "duration": 20.99682,
   "end_time": "2023-03-11T03:00:46.408363",
   "environment_variables": {},
   "exception": null,
   "input_path": "__notebook__.ipynb",
   "output_path": "__notebook__.ipynb",
   "parameters": {},
   "start_time": "2023-03-11T03:00:25.411543",
   "version": "2.3.3"
  }
 },
 "nbformat": 4,
 "nbformat_minor": 5
}
